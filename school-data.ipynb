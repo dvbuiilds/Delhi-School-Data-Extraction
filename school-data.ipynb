{
 "cells": [
  {
   "cell_type": "markdown",
   "id": "510a9b08",
   "metadata": {},
   "source": [
    "# Selenium Script in Jupyter Notebook to save all records of CBSE schools\n",
    "\n",
    "We needed to establish our relationships with schools in Delhi in order to introduce the students of Delhi with Mnemonics based learning. For that reason we needed contact details of schools in delhi (list) to start our work. This lead us to create this script that extracts data of Registered Schools in Delhi whom we can contact."
   ]
  },
  {
   "cell_type": "markdown",
   "id": "f76f0e46",
   "metadata": {},
   "source": [
    "### Installing all the packages."
   ]
  },
  {
   "cell_type": "code",
   "execution_count": null,
   "id": "faa77952",
   "metadata": {},
   "outputs": [],
   "source": [
    "!pip install selenium\n",
    "!pip install selenium_move_cursor\n",
    "!pip install bs4\n",
    "!pip install chromedriver_autoinstaller"
   ]
  },
  {
   "cell_type": "markdown",
   "id": "cd5d7fe2",
   "metadata": {},
   "source": [
    "### Importing the necessary methods and classes."
   ]
  },
  {
   "cell_type": "code",
   "execution_count": 1,
   "id": "9b12d949",
   "metadata": {},
   "outputs": [],
   "source": [
    "from selenium import webdriver\n",
    "from selenium.webdriver.common.by import By\n",
    "from selenium.webdriver.support import expected_conditions as EC\n",
    "from selenium.webdriver.support.wait import WebDriverWait\n",
    "from selenium.webdriver.chrome.service import Service\n",
    "from bs4 import BeautifulSoup\n",
    "from csv import writer\n",
    "import pickle"
   ]
  },
  {
   "cell_type": "markdown",
   "id": "6f50db67",
   "metadata": {},
   "source": [
    "### Installing the chrome webdriver in case you dont have it or the existing one doesnt work."
   ]
  },
  {
   "cell_type": "code",
   "execution_count": null,
   "id": "33e5edf2",
   "metadata": {},
   "outputs": [],
   "source": [
    "import chromedriver_autoinstaller as chromedriver\n",
    "chromedriver.install()"
   ]
  },
  {
   "cell_type": "markdown",
   "id": "1703e1cb",
   "metadata": {},
   "source": [
    "### Starting the web driver"
   ]
  },
  {
   "cell_type": "code",
   "execution_count": 2,
   "id": "986ca5d2",
   "metadata": {},
   "outputs": [],
   "source": [
    "### Starting the Web Driver.\n",
    "s = Service('chromedriver.exe')\n",
    "    # D:\\Projects\\Side-Projects\\Jupyter\\\n",
    "driver = webdriver.Chrome(service=s)\n",
    "\n",
    "### Logging onto the required website.\n",
    "url = \"https://saras.cbse.gov.in/saras/AffiliatedList/ListOfSchdirReport\"\n",
    "driver.get(url)\n",
    "    # https://saras.cbse.gov.in/saras/AffiliatedList/ListOfSchdirReport\n",
    "\n",
    "### Now go to the web driver tab, select 'Region' as 'Delhi' and then move to the next cell."
   ]
  },
  {
   "cell_type": "markdown",
   "id": "f2559465",
   "metadata": {},
   "source": [
    "### Extracting all the 'View' Links present in the table for all the entries of the table going to over 247 pages of the table"
   ]
  },
  {
   "cell_type": "code",
   "execution_count": 4,
   "id": "7e4bf5bb",
   "metadata": {},
   "outputs": [
    {
     "name": "stdout",
     "output_type": "stream",
     "text": [
      "2358\n"
     ]
    }
   ],
   "source": [
    "affLinks = list()\n",
    "\n",
    "for i in range(247):\n",
    "    viewBtns = driver.find_elements(By.LINK_TEXT, 'View')\n",
    "    \n",
    "    for view in viewBtns:\n",
    "        link = view.get_attribute('href')\n",
    "        affLinks.append(link)\n",
    "    \n",
    "    # Finding the 'Next' button in the page.\n",
    "    nextButton = driver.find_element(By.LINK_TEXT, \"Next\")\n",
    "    nextButton.click()\n",
    "    \n",
    "print(len(affLinks))"
   ]
  },
  {
   "cell_type": "markdown",
   "id": "84714248",
   "metadata": {},
   "source": [
    "#### Using Beautifulsoup, execution completes a little faster.\n",
    "Run only one of these two cells. "
   ]
  },
  {
   "cell_type": "code",
   "execution_count": null,
   "id": "4ff8cec6",
   "metadata": {},
   "outputs": [],
   "source": [
    "for i in range(25):\n",
    "    pageSoup = BeautifulSoup(driver.page_source, 'html.parser')\n",
    "    for linktxt in pageSoup.table.find_all('a'):\n",
    "        link = 'https://saras.cbse.gov.in' + linktxt['href']\n",
    "        affLinks.append(link)\n",
    "\n",
    "    # Finding the 'Next' button in the page.\n",
    "    nextButton = driver.find_element(By.LINK_TEXT, \"Next\")\n",
    "    nextButton.click()\n",
    "    \n",
    "print(len(affLinks))"
   ]
  },
  {
   "cell_type": "markdown",
   "id": "0e008df3",
   "metadata": {},
   "source": [
    "### Saving the Links in a Pickle file."
   ]
  },
  {
   "cell_type": "code",
   "execution_count": null,
   "id": "009a24b6",
   "metadata": {},
   "outputs": [],
   "source": [
    "with open ('file.pkl', 'wb') as fopen:\n",
    "    pickle.dump(affLinks, fopen)"
   ]
  },
  {
   "cell_type": "markdown",
   "id": "f5706d30",
   "metadata": {},
   "source": [
    "### Loading the Links saved in the Pickle file."
   ]
  },
  {
   "cell_type": "code",
   "execution_count": null,
   "id": "f252d694",
   "metadata": {},
   "outputs": [],
   "source": [
    "affLinks = []\n",
    "with open('file.pkl', 'rb') as fRead:\n",
    "    affLinks = pickle.load(fRead)"
   ]
  },
  {
   "cell_type": "markdown",
   "id": "80fcad23",
   "metadata": {},
   "source": [
    "### Creating Columns inside the CSV file that will store the extracted data. "
   ]
  },
  {
   "cell_type": "code",
   "execution_count": 4,
   "id": "8c945e72",
   "metadata": {},
   "outputs": [],
   "source": [
    "driver.get(affLinks[0])\n",
    "try:\n",
    "    element = WebDriverWait(driver, 10).until(\n",
    "        EC.presence_of_element_located((By.TAG_NAME, \"table\"))\n",
    "    )\n",
    "finally:\n",
    "    saveElems = driver.find_elements(By.TAG_NAME, 'tr')\n",
    "    record = list()\n",
    "    for i in range(1, len(saveElems)):\n",
    "        trElem = saveElems[i].find_elements(By.TAG_NAME, 'td')\n",
    "        record.append(trElem[0].text)\n",
    "        \n",
    "    with open('save.csv', 'a+', newline='') as wObj:\n",
    "        csv_writer = writer(wObj)\n",
    "        csv_writer.writerow(record)"
   ]
  },
  {
   "cell_type": "markdown",
   "id": "7777e931",
   "metadata": {},
   "source": [
    "### Script to extract all the required data."
   ]
  },
  {
   "cell_type": "code",
   "execution_count": null,
   "id": "7b2b74f3",
   "metadata": {},
   "outputs": [],
   "source": [
    "for lnk in affLinks:\n",
    "    driver.get(lnk)\n",
    "    try:\n",
    "        element = WebDriverWait(driver, 10).until(\n",
    "            EC.presence_of_element_located((By.TAG_NAME, \"table\"))\n",
    "        )\n",
    "    finally:\n",
    "        saveElems = driver.find_elements(By.TAG_NAME, 'tr')\n",
    "        record = list()\n",
    "    \n",
    "        for i in range(1, len(saveElems)):\n",
    "            trElem = saveElems[i].find_elements(By.TAG_NAME, 'td')\n",
    "            record.append(trElem[1].text)\n",
    "        \n",
    "        with open('save.csv', 'a+', newline='') as wObj:\n",
    "            csv_writer = writer(wObj)\n",
    "            csv_writer.writerow(record)\n",
    "    "
   ]
  },
  {
   "cell_type": "markdown",
   "id": "19750738",
   "metadata": {},
   "source": [
    "## In case we have to continue extraction from the point where the program stopped"
   ]
  },
  {
   "cell_type": "markdown",
   "id": "27b6f52f",
   "metadata": {},
   "source": [
    "### Finding the index of the last record using the CSV file."
   ]
  },
  {
   "cell_type": "code",
   "execution_count": null,
   "id": "e2256c60",
   "metadata": {},
   "outputs": [],
   "source": [
    "for i in range(len(affLinks)):\n",
    "    lnk = affLinks[i]\n",
    "    if(lnk == 'https://saras.cbse.gov.in/saras/AffiliatedList/AfflicationDetails/2754119'):\n",
    "        print(lnk, i)\n",
    "        break"
   ]
  },
  {
   "cell_type": "markdown",
   "id": "2fd30266",
   "metadata": {},
   "source": [
    "### Starting the loop from that point."
   ]
  },
  {
   "cell_type": "code",
   "execution_count": null,
   "id": "7529b191",
   "metadata": {},
   "outputs": [],
   "source": [
    "for i in range (1306, len(affLinks)):\n",
    "    lnk = affLinks[i]\n",
    "    driver.get(lnk)\n",
    "    try:\n",
    "        element = WebDriverWait(driver, 10).until(\n",
    "            EC.presence_of_element_located((By.TAG_NAME, \"table\"))\n",
    "        )\n",
    "    finally:\n",
    "        saveElems = driver.find_elements(By.TAG_NAME, 'tr')\n",
    "        record = list()\n",
    "    \n",
    "        for i in range(1, len(saveElems)):\n",
    "            trElem = saveElems[i].find_elements(By.TAG_NAME, 'td')\n",
    "            record.append(trElem[1].text)\n",
    "        \n",
    "        with open('save.csv', 'a+', newline='') as wObj:\n",
    "            csv_writer = writer(wObj)\n",
    "            csv_writer.writerow(record)\n",
    "    "
   ]
  }
 ],
 "metadata": {
  "kernelspec": {
   "display_name": "Python 3.10.7 64-bit (microsoft store)",
   "language": "python",
   "name": "python3"
  },
  "language_info": {
   "codemirror_mode": {
    "name": "ipython",
    "version": 3
   },
   "file_extension": ".py",
   "mimetype": "text/x-python",
   "name": "python",
   "nbconvert_exporter": "python",
   "pygments_lexer": "ipython3",
   "version": "3.10.7"
  },
  "vscode": {
   "interpreter": {
    "hash": "d0cbbebf9f0b0bbfc95e69ad64896f56dfada71bfa89cad12c94e55ff369cd53"
   }
  }
 },
 "nbformat": 4,
 "nbformat_minor": 5
}
